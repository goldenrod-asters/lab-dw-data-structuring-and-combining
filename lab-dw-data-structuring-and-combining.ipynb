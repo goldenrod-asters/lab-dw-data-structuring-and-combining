{
 "cells": [
  {
   "cell_type": "markdown",
   "id": "25d7736c-ba17-4aff-b6bb-66eba20fbf4e",
   "metadata": {
    "id": "25d7736c-ba17-4aff-b6bb-66eba20fbf4e"
   },
   "source": [
    "# Lab | Data Structuring and Combining Data"
   ]
  },
  {
   "cell_type": "markdown",
   "id": "a2cdfc70-44c8-478c-81e7-2bc43fdf4986",
   "metadata": {
    "id": "a2cdfc70-44c8-478c-81e7-2bc43fdf4986"
   },
   "source": [
    "## Challenge 1: Combining & Cleaning Data\n",
    "\n",
    "In this challenge, we will be working with the customer data from an insurance company, as we did in the two previous labs. The data can be found here:\n",
    "- https://raw.githubusercontent.com/data-bootcamp-v4/data/main/file1.csv\n",
    "\n",
    "But this time, we got new data, which can be found in the following 2 CSV files located at the links below.\n",
    "\n",
    "- https://raw.githubusercontent.com/data-bootcamp-v4/data/main/file2.csv\n",
    "- https://raw.githubusercontent.com/data-bootcamp-v4/data/main/file3.csv\n",
    "\n",
    "Note that you'll need to clean and format the new data.\n",
    "\n",
    "Observation:\n",
    "- One option is to first combine the three datasets and then apply the cleaning function to the new combined dataset\n",
    "- Another option would be to read the clean file you saved in the previous lab, and just clean the two new files and concatenate the three clean datasets"
   ]
  },
  {
   "cell_type": "code",
   "execution_count": 2,
   "id": "492d06e3-92c7-4105-ac72-536db98d3244",
   "metadata": {
    "id": "492d06e3-92c7-4105-ac72-536db98d3244"
   },
   "outputs": [],
   "source": [
    "import pandas as pd\n",
    "\n",
    "url1='https://raw.githubusercontent.com/data-bootcamp-v4/data/main/file1.csv'\n",
    "url2='https://raw.githubusercontent.com/data-bootcamp-v4/data/main/file2.csv'\n",
    "url3='https://raw.githubusercontent.com/data-bootcamp-v4/data/main/file3.csv'\n",
    "\n",
    "insur_df1=pd.read_csv(url1)\n",
    "insur_df2=pd.read_csv(url2)\n",
    "insur_df3=pd.read_csv(url3)"
   ]
  },
  {
   "cell_type": "code",
   "execution_count": 3,
   "id": "c0fe32f1",
   "metadata": {},
   "outputs": [],
   "source": [
    "insur_df3 = insur_df3.rename(columns={'State':'ST','Gender':'GENDER'})"
   ]
  },
  {
   "cell_type": "code",
   "execution_count": 4,
   "id": "26d653ec",
   "metadata": {
    "scrolled": false
   },
   "outputs": [],
   "source": [
    "insur_columns = insur_df1.columns.tolist()\n",
    "insur_df2 = insur_df2.reindex(columns=insur_columns)\n",
    "insur_df3 = insur_df3.reindex(columns=insur_columns)"
   ]
  },
  {
   "cell_type": "code",
   "execution_count": 5,
   "id": "cda2f951",
   "metadata": {},
   "outputs": [
    {
     "name": "stdout",
     "output_type": "stream",
     "text": [
      "<class 'pandas.core.frame.DataFrame'>\n",
      "RangeIndex: 996 entries, 0 to 995\n",
      "Data columns (total 11 columns):\n",
      " #   Column                     Non-Null Count  Dtype  \n",
      "---  ------                     --------------  -----  \n",
      " 0   Customer                   996 non-null    object \n",
      " 1   ST                         996 non-null    object \n",
      " 2   GENDER                     991 non-null    object \n",
      " 3   Education                  996 non-null    object \n",
      " 4   Customer Lifetime Value    992 non-null    object \n",
      " 5   Income                     996 non-null    int64  \n",
      " 6   Monthly Premium Auto       996 non-null    int64  \n",
      " 7   Number of Open Complaints  996 non-null    object \n",
      " 8   Policy Type                996 non-null    object \n",
      " 9   Vehicle Class              996 non-null    object \n",
      " 10  Total Claim Amount         996 non-null    float64\n",
      "dtypes: float64(1), int64(2), object(8)\n",
      "memory usage: 85.7+ KB\n"
     ]
    }
   ],
   "source": [
    "insur_df2.info()"
   ]
  },
  {
   "cell_type": "code",
   "execution_count": 6,
   "id": "7c447575",
   "metadata": {},
   "outputs": [],
   "source": [
    "insur_columns = ['customer', 'state', 'gender', 'education', 'clv', 'income', 'monthly_prem', 'open_complaints', \\\n",
    "                 'policy_type', 'vehicle_class', 'total_claim_amt']\n",
    "# manually renamed all columns because I prefer shorter column names\n",
    "\n",
    "for df in [insur_df1, insur_df2, insur_df3]:\n",
    "    df.columns = insur_columns\n",
    "        \n",
    "#insur_df1.columns = insur_columns\n",
    "#insur_df2.columns = insur_columns\n",
    "#insur_df3.columns = insur_columns\n",
    "\n",
    "# consider using .rename() with lambda function \n",
    "# .rename(columns = lambda x:x.lower().replace(' ','_'))"
   ]
  },
  {
   "cell_type": "code",
   "execution_count": 7,
   "id": "d9e7a036",
   "metadata": {
    "scrolled": false
   },
   "outputs": [
    {
     "name": "stdout",
     "output_type": "stream",
     "text": [
      "<class 'pandas.core.frame.DataFrame'>\n",
      "RangeIndex: 12074 entries, 0 to 12073\n",
      "Data columns (total 11 columns):\n",
      " #   Column           Non-Null Count  Dtype  \n",
      "---  ------           --------------  -----  \n",
      " 0   customer         9137 non-null   object \n",
      " 1   state            9137 non-null   object \n",
      " 2   gender           9015 non-null   object \n",
      " 3   education        9137 non-null   object \n",
      " 4   clv              9130 non-null   object \n",
      " 5   income           9137 non-null   float64\n",
      " 6   monthly_prem     9137 non-null   float64\n",
      " 7   open_complaints  9137 non-null   object \n",
      " 8   policy_type      9137 non-null   object \n",
      " 9   vehicle_class    9137 non-null   object \n",
      " 10  total_claim_amt  9137 non-null   float64\n",
      "dtypes: float64(3), object(8)\n",
      "memory usage: 1.0+ MB\n"
     ]
    }
   ],
   "source": [
    "insur_df = pd.concat([insur_df1,insur_df2,insur_df3],axis=0)  # better to add ignore_index=True when concatenating\n",
    "insur_df = insur_df.reset_index(drop=True)\n",
    "insur_df.info()"
   ]
  },
  {
   "cell_type": "code",
   "execution_count": 8,
   "id": "c10dfb80",
   "metadata": {},
   "outputs": [],
   "source": [
    "for column in insur_df:\n",
    "    insur_df[column].replace(\n",
    "        ['Femal','female','Male','WA','AZ','Cali','Bachelor','Luxury SUV','Sports Car','Luxury Car'],\n",
    "        ['F','F','M','Washington','Arizona','California','Bachelors','Luxury','Luxury','Luxury'],\n",
    "        inplace=True)"
   ]
  },
  {
   "cell_type": "code",
   "execution_count": 9,
   "id": "730e0361",
   "metadata": {},
   "outputs": [],
   "source": [
    "insur_df.clv = insur_df.clv.apply(lambda x:x.replace('%','') if isinstance(x, str) else x)"
   ]
  },
  {
   "cell_type": "code",
   "execution_count": 20,
   "id": "b3bc670c",
   "metadata": {},
   "outputs": [],
   "source": [
    "insur_df.clv = pd.to_numeric(insur_df.clv, errors='coerce')"
   ]
  },
  {
   "cell_type": "code",
   "execution_count": 10,
   "id": "27eeef94",
   "metadata": {},
   "outputs": [],
   "source": [
    "insur_df.open_complaints = insur_df.open_complaints.apply(lambda x:int(x.split('/')[1]) if (isinstance(x, str) and '/' in x) else x)"
   ]
  },
  {
   "cell_type": "code",
   "execution_count": 12,
   "id": "436bfdb0",
   "metadata": {},
   "outputs": [
    {
     "data": {
      "text/plain": [
       "array([ 0.,  2.,  1.,  3.,  5.,  4., nan])"
      ]
     },
     "execution_count": 12,
     "metadata": {},
     "output_type": "execute_result"
    }
   ],
   "source": [
    "insur_df.open_complaints.unique()"
   ]
  },
  {
   "cell_type": "code",
   "execution_count": 14,
   "id": "9509125e",
   "metadata": {},
   "outputs": [
    {
     "data": {
      "text/plain": [
       "customer           2937\n",
       "state              2937\n",
       "gender             3059\n",
       "education          2937\n",
       "clv                2944\n",
       "income             2937\n",
       "monthly_prem       2937\n",
       "open_complaints    2937\n",
       "policy_type        2937\n",
       "vehicle_class      2937\n",
       "total_claim_amt    2937\n",
       "dtype: int64"
      ]
     },
     "execution_count": 14,
     "metadata": {},
     "output_type": "execute_result"
    }
   ],
   "source": [
    "insur_df.isna().sum()"
   ]
  },
  {
   "cell_type": "code",
   "execution_count": 15,
   "id": "5872cca9",
   "metadata": {
    "scrolled": true
   },
   "outputs": [
    {
     "name": "stdout",
     "output_type": "stream",
     "text": [
      "<class 'pandas.core.frame.DataFrame'>\n",
      "RangeIndex: 12074 entries, 0 to 12073\n",
      "Data columns (total 11 columns):\n",
      " #   Column           Non-Null Count  Dtype  \n",
      "---  ------           --------------  -----  \n",
      " 0   customer         9137 non-null   object \n",
      " 1   state            9137 non-null   object \n",
      " 2   gender           9015 non-null   object \n",
      " 3   education        9137 non-null   object \n",
      " 4   clv              9130 non-null   object \n",
      " 5   income           9137 non-null   float64\n",
      " 6   monthly_prem     9137 non-null   float64\n",
      " 7   open_complaints  9137 non-null   float64\n",
      " 8   policy_type      9137 non-null   object \n",
      " 9   vehicle_class    9137 non-null   object \n",
      " 10  total_claim_amt  9137 non-null   float64\n",
      "dtypes: float64(4), object(7)\n",
      "memory usage: 1.0+ MB\n"
     ]
    }
   ],
   "source": [
    "insur_df.info()"
   ]
  },
  {
   "cell_type": "code",
   "execution_count": 16,
   "id": "2b4b81bc",
   "metadata": {},
   "outputs": [],
   "source": [
    "insur_df.dropna(subset=['customer','state','clv','income','monthly_prem','vehicle_class','policy_type'],inplace=True)"
   ]
  },
  {
   "cell_type": "code",
   "execution_count": 18,
   "id": "43eecf6f",
   "metadata": {
    "scrolled": true
   },
   "outputs": [
    {
     "name": "stdout",
     "output_type": "stream",
     "text": [
      "<class 'pandas.core.frame.DataFrame'>\n",
      "Index: 9130 entries, 1 to 12073\n",
      "Data columns (total 11 columns):\n",
      " #   Column           Non-Null Count  Dtype  \n",
      "---  ------           --------------  -----  \n",
      " 0   customer         9130 non-null   object \n",
      " 1   state            9130 non-null   object \n",
      " 2   gender           9010 non-null   object \n",
      " 3   education        9130 non-null   object \n",
      " 4   clv              9130 non-null   object \n",
      " 5   income           9130 non-null   float64\n",
      " 6   monthly_prem     9130 non-null   float64\n",
      " 7   open_complaints  9130 non-null   float64\n",
      " 8   policy_type      9130 non-null   object \n",
      " 9   vehicle_class    9130 non-null   object \n",
      " 10  total_claim_amt  9130 non-null   float64\n",
      "dtypes: float64(4), object(7)\n",
      "memory usage: 855.9+ KB\n"
     ]
    }
   ],
   "source": [
    "insur_df.info()"
   ]
  },
  {
   "cell_type": "code",
   "execution_count": 21,
   "id": "c5cef017",
   "metadata": {},
   "outputs": [],
   "source": [
    "insur_df.customer = insur_df.customer.fillna('unavailable')\n",
    "insur_df.state.ffill(inplace=True)\n",
    "insur_df.gender.fillna('D',inplace=True)\n",
    "insur_df.education.fillna('Undefined',inplace=True)\n",
    "insur_df.clv.fillna(insur_df.clv.mean(),inplace=True)\n",
    "insur_df.income.fillna(insur_df.income.median(),inplace=True)\n",
    "insur_df.monthly_prem.fillna(insur_df.monthly_prem.median(),inplace=True)\n",
    "insur_df.open_complaints.fillna(insur_df.open_complaints.median(),inplace=True)\n",
    "insur_df.vehicle_class.fillna('Undefined',inplace=True)\n",
    "insur_df.total_claim_amt.fillna(insur_df.total_claim_amt.mean(),inplace=True)\n",
    "insur_df.policy_type.fillna('Undefined',inplace=True)"
   ]
  },
  {
   "cell_type": "code",
   "execution_count": 24,
   "id": "9952beac",
   "metadata": {
    "scrolled": true
   },
   "outputs": [
    {
     "data": {
      "text/plain": [
       "customer           0\n",
       "state              0\n",
       "gender             0\n",
       "education          0\n",
       "clv                0\n",
       "income             0\n",
       "monthly_prem       0\n",
       "open_complaints    0\n",
       "policy_type        0\n",
       "vehicle_class      0\n",
       "total_claim_amt    0\n",
       "dtype: int64"
      ]
     },
     "execution_count": 24,
     "metadata": {},
     "output_type": "execute_result"
    }
   ],
   "source": [
    "insur_df.isna().sum()"
   ]
  },
  {
   "cell_type": "code",
   "execution_count": 25,
   "id": "b7c71fbf",
   "metadata": {},
   "outputs": [
    {
     "name": "stdout",
     "output_type": "stream",
     "text": [
      "<class 'pandas.core.frame.DataFrame'>\n",
      "Index: 9130 entries, 1 to 12073\n",
      "Data columns (total 11 columns):\n",
      " #   Column           Non-Null Count  Dtype  \n",
      "---  ------           --------------  -----  \n",
      " 0   customer         9130 non-null   object \n",
      " 1   state            9130 non-null   object \n",
      " 2   gender           9130 non-null   object \n",
      " 3   education        9130 non-null   object \n",
      " 4   clv              9130 non-null   float64\n",
      " 5   income           9130 non-null   float64\n",
      " 6   monthly_prem     9130 non-null   float64\n",
      " 7   open_complaints  9130 non-null   float64\n",
      " 8   policy_type      9130 non-null   object \n",
      " 9   vehicle_class    9130 non-null   object \n",
      " 10  total_claim_amt  9130 non-null   float64\n",
      "dtypes: float64(5), object(6)\n",
      "memory usage: 855.9+ KB\n"
     ]
    }
   ],
   "source": [
    "insur_df.info()"
   ]
  },
  {
   "cell_type": "markdown",
   "id": "31b8a9e7-7db9-4604-991b-ef6771603e57",
   "metadata": {
    "id": "31b8a9e7-7db9-4604-991b-ef6771603e57"
   },
   "source": [
    "# Challenge 2: Structuring Data"
   ]
  },
  {
   "cell_type": "markdown",
   "id": "a877fd6d-7a0c-46d2-9657-f25036e4ca4b",
   "metadata": {
    "id": "a877fd6d-7a0c-46d2-9657-f25036e4ca4b"
   },
   "source": [
    "In this challenge, we will continue to work with customer data from an insurance company, but we will use a dataset with more columns, called marketing_customer_analysis.csv, which can be found at the following link:\n",
    "\n",
    "https://raw.githubusercontent.com/data-bootcamp-v4/data/main/marketing_customer_analysis_clean.csv\n",
    "\n",
    "This dataset contains information such as customer demographics, policy details, vehicle information, and the customer's response to the last marketing campaign. Our goal is to explore and analyze this data by performing data cleaning, formatting, and structuring."
   ]
  },
  {
   "cell_type": "code",
   "execution_count": 40,
   "id": "aa10d9b0-1c27-4d3f-a8e4-db6ab73bfd26",
   "metadata": {
    "id": "aa10d9b0-1c27-4d3f-a8e4-db6ab73bfd26",
    "scrolled": true
   },
   "outputs": [
    {
     "data": {
      "text/html": [
       "<div>\n",
       "<style scoped>\n",
       "    .dataframe tbody tr th:only-of-type {\n",
       "        vertical-align: middle;\n",
       "    }\n",
       "\n",
       "    .dataframe tbody tr th {\n",
       "        vertical-align: top;\n",
       "    }\n",
       "\n",
       "    .dataframe thead th {\n",
       "        text-align: right;\n",
       "    }\n",
       "</style>\n",
       "<table border=\"1\" class=\"dataframe\">\n",
       "  <thead>\n",
       "    <tr style=\"text-align: right;\">\n",
       "      <th></th>\n",
       "      <th>customer</th>\n",
       "      <th>state</th>\n",
       "      <th>customer_lifetime_value</th>\n",
       "      <th>response</th>\n",
       "      <th>coverage</th>\n",
       "      <th>education</th>\n",
       "      <th>effective_to_date</th>\n",
       "      <th>employmentstatus</th>\n",
       "      <th>gender</th>\n",
       "      <th>income</th>\n",
       "      <th>...</th>\n",
       "      <th>number_of_policies</th>\n",
       "      <th>policy_type</th>\n",
       "      <th>policy</th>\n",
       "      <th>renew_offer_type</th>\n",
       "      <th>sales_channel</th>\n",
       "      <th>total_claim_amount</th>\n",
       "      <th>vehicle_class</th>\n",
       "      <th>vehicle_size</th>\n",
       "      <th>vehicle_type</th>\n",
       "      <th>month</th>\n",
       "    </tr>\n",
       "  </thead>\n",
       "  <tbody>\n",
       "    <tr>\n",
       "      <th>0</th>\n",
       "      <td>DK49336</td>\n",
       "      <td>Arizona</td>\n",
       "      <td>4809.216960</td>\n",
       "      <td>No</td>\n",
       "      <td>Basic</td>\n",
       "      <td>College</td>\n",
       "      <td>2011-02-18</td>\n",
       "      <td>Employed</td>\n",
       "      <td>M</td>\n",
       "      <td>48029</td>\n",
       "      <td>...</td>\n",
       "      <td>9</td>\n",
       "      <td>Corporate Auto</td>\n",
       "      <td>Corporate L3</td>\n",
       "      <td>Offer3</td>\n",
       "      <td>Agent</td>\n",
       "      <td>292.800000</td>\n",
       "      <td>Four-Door Car</td>\n",
       "      <td>Medsize</td>\n",
       "      <td>A</td>\n",
       "      <td>2</td>\n",
       "    </tr>\n",
       "    <tr>\n",
       "      <th>1</th>\n",
       "      <td>KX64629</td>\n",
       "      <td>California</td>\n",
       "      <td>2228.525238</td>\n",
       "      <td>No</td>\n",
       "      <td>Basic</td>\n",
       "      <td>College</td>\n",
       "      <td>2011-01-18</td>\n",
       "      <td>Unemployed</td>\n",
       "      <td>F</td>\n",
       "      <td>0</td>\n",
       "      <td>...</td>\n",
       "      <td>1</td>\n",
       "      <td>Personal Auto</td>\n",
       "      <td>Personal L3</td>\n",
       "      <td>Offer4</td>\n",
       "      <td>Call Center</td>\n",
       "      <td>744.924331</td>\n",
       "      <td>Four-Door Car</td>\n",
       "      <td>Medsize</td>\n",
       "      <td>A</td>\n",
       "      <td>1</td>\n",
       "    </tr>\n",
       "    <tr>\n",
       "      <th>2</th>\n",
       "      <td>LZ68649</td>\n",
       "      <td>Washington</td>\n",
       "      <td>14947.917300</td>\n",
       "      <td>No</td>\n",
       "      <td>Basic</td>\n",
       "      <td>Bachelor</td>\n",
       "      <td>2011-02-10</td>\n",
       "      <td>Employed</td>\n",
       "      <td>M</td>\n",
       "      <td>22139</td>\n",
       "      <td>...</td>\n",
       "      <td>2</td>\n",
       "      <td>Personal Auto</td>\n",
       "      <td>Personal L3</td>\n",
       "      <td>Offer3</td>\n",
       "      <td>Call Center</td>\n",
       "      <td>480.000000</td>\n",
       "      <td>SUV</td>\n",
       "      <td>Medsize</td>\n",
       "      <td>A</td>\n",
       "      <td>2</td>\n",
       "    </tr>\n",
       "    <tr>\n",
       "      <th>3</th>\n",
       "      <td>XL78013</td>\n",
       "      <td>Oregon</td>\n",
       "      <td>22332.439460</td>\n",
       "      <td>Yes</td>\n",
       "      <td>Extended</td>\n",
       "      <td>College</td>\n",
       "      <td>2011-01-11</td>\n",
       "      <td>Employed</td>\n",
       "      <td>M</td>\n",
       "      <td>49078</td>\n",
       "      <td>...</td>\n",
       "      <td>2</td>\n",
       "      <td>Corporate Auto</td>\n",
       "      <td>Corporate L3</td>\n",
       "      <td>Offer2</td>\n",
       "      <td>Branch</td>\n",
       "      <td>484.013411</td>\n",
       "      <td>Four-Door Car</td>\n",
       "      <td>Medsize</td>\n",
       "      <td>A</td>\n",
       "      <td>1</td>\n",
       "    </tr>\n",
       "    <tr>\n",
       "      <th>4</th>\n",
       "      <td>QA50777</td>\n",
       "      <td>Oregon</td>\n",
       "      <td>9025.067525</td>\n",
       "      <td>No</td>\n",
       "      <td>Premium</td>\n",
       "      <td>Bachelor</td>\n",
       "      <td>2011-01-17</td>\n",
       "      <td>Medical Leave</td>\n",
       "      <td>F</td>\n",
       "      <td>23675</td>\n",
       "      <td>...</td>\n",
       "      <td>7</td>\n",
       "      <td>Personal Auto</td>\n",
       "      <td>Personal L2</td>\n",
       "      <td>Offer1</td>\n",
       "      <td>Branch</td>\n",
       "      <td>707.925645</td>\n",
       "      <td>Four-Door Car</td>\n",
       "      <td>Medsize</td>\n",
       "      <td>A</td>\n",
       "      <td>1</td>\n",
       "    </tr>\n",
       "  </tbody>\n",
       "</table>\n",
       "<p>5 rows × 26 columns</p>\n",
       "</div>"
      ],
      "text/plain": [
       "  customer       state  customer_lifetime_value response  coverage education  \\\n",
       "0  DK49336     Arizona              4809.216960       No     Basic   College   \n",
       "1  KX64629  California              2228.525238       No     Basic   College   \n",
       "2  LZ68649  Washington             14947.917300       No     Basic  Bachelor   \n",
       "3  XL78013      Oregon             22332.439460      Yes  Extended   College   \n",
       "4  QA50777      Oregon              9025.067525       No   Premium  Bachelor   \n",
       "\n",
       "  effective_to_date employmentstatus gender  income  ... number_of_policies  \\\n",
       "0        2011-02-18         Employed      M   48029  ...                  9   \n",
       "1        2011-01-18       Unemployed      F       0  ...                  1   \n",
       "2        2011-02-10         Employed      M   22139  ...                  2   \n",
       "3        2011-01-11         Employed      M   49078  ...                  2   \n",
       "4        2011-01-17    Medical Leave      F   23675  ...                  7   \n",
       "\n",
       "      policy_type        policy  renew_offer_type  sales_channel  \\\n",
       "0  Corporate Auto  Corporate L3            Offer3          Agent   \n",
       "1   Personal Auto   Personal L3            Offer4    Call Center   \n",
       "2   Personal Auto   Personal L3            Offer3    Call Center   \n",
       "3  Corporate Auto  Corporate L3            Offer2         Branch   \n",
       "4   Personal Auto   Personal L2            Offer1         Branch   \n",
       "\n",
       "   total_claim_amount  vehicle_class vehicle_size vehicle_type month  \n",
       "0          292.800000  Four-Door Car      Medsize            A     2  \n",
       "1          744.924331  Four-Door Car      Medsize            A     1  \n",
       "2          480.000000            SUV      Medsize            A     2  \n",
       "3          484.013411  Four-Door Car      Medsize            A     1  \n",
       "4          707.925645  Four-Door Car      Medsize            A     1  \n",
       "\n",
       "[5 rows x 26 columns]"
      ]
     },
     "execution_count": 40,
     "metadata": {},
     "output_type": "execute_result"
    }
   ],
   "source": [
    "markinsur_df = pd.read_csv('https://raw.githubusercontent.com/data-bootcamp-v4/data/main/marketing_customer_analysis_clean.csv',\n",
    "                       index_col=['unnamed:_0'])\n",
    "markinsur_df.index.name = None\n",
    "markinsur_df.head()\n"
   ]
  },
  {
   "cell_type": "code",
   "execution_count": 41,
   "id": "2a170a06",
   "metadata": {
    "scrolled": true
   },
   "outputs": [
    {
     "name": "stdout",
     "output_type": "stream",
     "text": [
      "<class 'pandas.core.frame.DataFrame'>\n",
      "Index: 10910 entries, 0 to 10909\n",
      "Data columns (total 26 columns):\n",
      " #   Column                         Non-Null Count  Dtype  \n",
      "---  ------                         --------------  -----  \n",
      " 0   customer                       10910 non-null  object \n",
      " 1   state                          10910 non-null  object \n",
      " 2   customer_lifetime_value        10910 non-null  float64\n",
      " 3   response                       10910 non-null  object \n",
      " 4   coverage                       10910 non-null  object \n",
      " 5   education                      10910 non-null  object \n",
      " 6   effective_to_date              10910 non-null  object \n",
      " 7   employmentstatus               10910 non-null  object \n",
      " 8   gender                         10910 non-null  object \n",
      " 9   income                         10910 non-null  int64  \n",
      " 10  location_code                  10910 non-null  object \n",
      " 11  marital_status                 10910 non-null  object \n",
      " 12  monthly_premium_auto           10910 non-null  int64  \n",
      " 13  months_since_last_claim        10910 non-null  float64\n",
      " 14  months_since_policy_inception  10910 non-null  int64  \n",
      " 15  number_of_open_complaints      10910 non-null  float64\n",
      " 16  number_of_policies             10910 non-null  int64  \n",
      " 17  policy_type                    10910 non-null  object \n",
      " 18  policy                         10910 non-null  object \n",
      " 19  renew_offer_type               10910 non-null  object \n",
      " 20  sales_channel                  10910 non-null  object \n",
      " 21  total_claim_amount             10910 non-null  float64\n",
      " 22  vehicle_class                  10910 non-null  object \n",
      " 23  vehicle_size                   10910 non-null  object \n",
      " 24  vehicle_type                   10910 non-null  object \n",
      " 25  month                          10910 non-null  int64  \n",
      "dtypes: float64(4), int64(5), object(17)\n",
      "memory usage: 2.2+ MB\n"
     ]
    }
   ],
   "source": [
    "markinsur_df.info()"
   ]
  },
  {
   "cell_type": "markdown",
   "id": "df35fd0d-513e-4e77-867e-429da10a9cc7",
   "metadata": {
    "id": "df35fd0d-513e-4e77-867e-429da10a9cc7"
   },
   "source": [
    "1. You work at the marketing department and you want to know which sales channel brought the most sales in terms of total revenue. Using pivot, create a summary table showing the total revenue for each sales channel (branch, call center, web, and mail).\n",
    "Round the total revenue to 2 decimal points.  Analyze the resulting table to draw insights."
   ]
  },
  {
   "cell_type": "code",
   "execution_count": 45,
   "id": "5bdce9c3",
   "metadata": {},
   "outputs": [
    {
     "data": {
      "text/html": [
       "<div>\n",
       "<style scoped>\n",
       "    .dataframe tbody tr th:only-of-type {\n",
       "        vertical-align: middle;\n",
       "    }\n",
       "\n",
       "    .dataframe tbody tr th {\n",
       "        vertical-align: top;\n",
       "    }\n",
       "\n",
       "    .dataframe thead tr th {\n",
       "        text-align: left;\n",
       "    }\n",
       "\n",
       "    .dataframe thead tr:last-of-type th {\n",
       "        text-align: right;\n",
       "    }\n",
       "</style>\n",
       "<table border=\"1\" class=\"dataframe\">\n",
       "  <thead>\n",
       "    <tr>\n",
       "      <th></th>\n",
       "      <th>sum</th>\n",
       "      <th>mean</th>\n",
       "      <th>count</th>\n",
       "    </tr>\n",
       "    <tr>\n",
       "      <th></th>\n",
       "      <th>customer_lifetime_value</th>\n",
       "      <th>customer_lifetime_value</th>\n",
       "      <th>customer_lifetime_value</th>\n",
       "    </tr>\n",
       "    <tr>\n",
       "      <th>sales_channel</th>\n",
       "      <th></th>\n",
       "      <th></th>\n",
       "      <th></th>\n",
       "    </tr>\n",
       "  </thead>\n",
       "  <tbody>\n",
       "    <tr>\n",
       "      <th>Agent</th>\n",
       "      <td>33057887.85</td>\n",
       "      <td>8021.81</td>\n",
       "      <td>4121</td>\n",
       "    </tr>\n",
       "    <tr>\n",
       "      <th>Branch</th>\n",
       "      <td>24359201.21</td>\n",
       "      <td>8060.62</td>\n",
       "      <td>3022</td>\n",
       "    </tr>\n",
       "    <tr>\n",
       "      <th>Call Center</th>\n",
       "      <td>17364288.37</td>\n",
       "      <td>8110.36</td>\n",
       "      <td>2141</td>\n",
       "    </tr>\n",
       "    <tr>\n",
       "      <th>Web</th>\n",
       "      <td>12697632.90</td>\n",
       "      <td>7809.12</td>\n",
       "      <td>1626</td>\n",
       "    </tr>\n",
       "  </tbody>\n",
       "</table>\n",
       "</div>"
      ],
      "text/plain": [
       "                                  sum                    mean  \\\n",
       "              customer_lifetime_value customer_lifetime_value   \n",
       "sales_channel                                                   \n",
       "Agent                     33057887.85                 8021.81   \n",
       "Branch                    24359201.21                 8060.62   \n",
       "Call Center               17364288.37                 8110.36   \n",
       "Web                       12697632.90                 7809.12   \n",
       "\n",
       "                                count  \n",
       "              customer_lifetime_value  \n",
       "sales_channel                          \n",
       "Agent                            4121  \n",
       "Branch                           3022  \n",
       "Call Center                      2141  \n",
       "Web                              1626  "
      ]
     },
     "execution_count": 45,
     "metadata": {},
     "output_type": "execute_result"
    }
   ],
   "source": [
    "# assuming clv = total revenue\n",
    "\n",
    "revenue_pivot = markinsur_df.pivot_table(index='sales_channel',values='customer_lifetime_value',aggfunc=['sum','mean','count']).round(2)\n",
    "revenue_pivot\n",
    "\n",
    "# sales from agent most successful of the four different sales channels, web was least successful\n",
    "# sales from call center may be more valuable per customer, with average sales being higher and lower customer count"
   ]
  },
  {
   "cell_type": "code",
   "execution_count": 56,
   "id": "b932bbc3",
   "metadata": {},
   "outputs": [
    {
     "data": {
      "text/html": [
       "<div>\n",
       "<style scoped>\n",
       "    .dataframe tbody tr th:only-of-type {\n",
       "        vertical-align: middle;\n",
       "    }\n",
       "\n",
       "    .dataframe tbody tr th {\n",
       "        vertical-align: top;\n",
       "    }\n",
       "\n",
       "    .dataframe thead tr th {\n",
       "        text-align: left;\n",
       "    }\n",
       "\n",
       "    .dataframe thead tr:last-of-type th {\n",
       "        text-align: right;\n",
       "    }\n",
       "</style>\n",
       "<table border=\"1\" class=\"dataframe\">\n",
       "  <thead>\n",
       "    <tr>\n",
       "      <th></th>\n",
       "      <th>sum</th>\n",
       "      <th>mean</th>\n",
       "      <th>count</th>\n",
       "    </tr>\n",
       "    <tr>\n",
       "      <th></th>\n",
       "      <th>monthly_premium_auto</th>\n",
       "      <th>monthly_premium_auto</th>\n",
       "      <th>monthly_premium_auto</th>\n",
       "    </tr>\n",
       "    <tr>\n",
       "      <th>sales_channel</th>\n",
       "      <th></th>\n",
       "      <th></th>\n",
       "      <th></th>\n",
       "    </tr>\n",
       "  </thead>\n",
       "  <tbody>\n",
       "    <tr>\n",
       "      <th>Agent</th>\n",
       "      <td>386335</td>\n",
       "      <td>93.75</td>\n",
       "      <td>4121</td>\n",
       "    </tr>\n",
       "    <tr>\n",
       "      <th>Branch</th>\n",
       "      <td>280953</td>\n",
       "      <td>92.97</td>\n",
       "      <td>3022</td>\n",
       "    </tr>\n",
       "    <tr>\n",
       "      <th>Call Center</th>\n",
       "      <td>197970</td>\n",
       "      <td>92.47</td>\n",
       "      <td>2141</td>\n",
       "    </tr>\n",
       "    <tr>\n",
       "      <th>Web</th>\n",
       "      <td>151511</td>\n",
       "      <td>93.18</td>\n",
       "      <td>1626</td>\n",
       "    </tr>\n",
       "  </tbody>\n",
       "</table>\n",
       "</div>"
      ],
      "text/plain": [
       "                               sum                 mean                count\n",
       "              monthly_premium_auto monthly_premium_auto monthly_premium_auto\n",
       "sales_channel                                                               \n",
       "Agent                       386335                93.75                 4121\n",
       "Branch                      280953                92.97                 3022\n",
       "Call Center                 197970                92.47                 2141\n",
       "Web                         151511                93.18                 1626"
      ]
     },
     "execution_count": 56,
     "metadata": {},
     "output_type": "execute_result"
    }
   ],
   "source": [
    "# assuming monthly_premium_auto = monthly revenue\n",
    "\n",
    "revenue_pivot2 = markinsur_df.pivot_table(index='sales_channel',values='monthly_premium_auto',aggfunc=['sum','mean','count']).round(2)\n",
    "revenue_pivot2\n",
    "\n",
    "# could multiply customer monthly premium by number of months customer has been customer using effective_to_date"
   ]
  },
  {
   "cell_type": "markdown",
   "id": "640993b2-a291-436c-a34d-a551144f8196",
   "metadata": {
    "id": "640993b2-a291-436c-a34d-a551144f8196"
   },
   "source": [
    "2. Create a pivot table that shows the average customer lifetime value per gender and education level. Analyze the resulting table to draw insights."
   ]
  },
  {
   "cell_type": "code",
   "execution_count": 50,
   "id": "46f1a851",
   "metadata": {},
   "outputs": [
    {
     "data": {
      "text/html": [
       "<div>\n",
       "<style scoped>\n",
       "    .dataframe tbody tr th:only-of-type {\n",
       "        vertical-align: middle;\n",
       "    }\n",
       "\n",
       "    .dataframe tbody tr th {\n",
       "        vertical-align: top;\n",
       "    }\n",
       "\n",
       "    .dataframe thead th {\n",
       "        text-align: right;\n",
       "    }\n",
       "</style>\n",
       "<table border=\"1\" class=\"dataframe\">\n",
       "  <thead>\n",
       "    <tr style=\"text-align: right;\">\n",
       "      <th>gender</th>\n",
       "      <th>F</th>\n",
       "      <th>M</th>\n",
       "      <th>Average</th>\n",
       "    </tr>\n",
       "    <tr>\n",
       "      <th>education</th>\n",
       "      <th></th>\n",
       "      <th></th>\n",
       "      <th></th>\n",
       "    </tr>\n",
       "  </thead>\n",
       "  <tbody>\n",
       "    <tr>\n",
       "      <th>Bachelor</th>\n",
       "      <td>7874.269478</td>\n",
       "      <td>7703.601675</td>\n",
       "      <td>7792.273822</td>\n",
       "    </tr>\n",
       "    <tr>\n",
       "      <th>College</th>\n",
       "      <td>7748.823325</td>\n",
       "      <td>8052.459288</td>\n",
       "      <td>7900.072700</td>\n",
       "    </tr>\n",
       "    <tr>\n",
       "      <th>Doctor</th>\n",
       "      <td>7328.508916</td>\n",
       "      <td>7415.333638</td>\n",
       "      <td>7372.029537</td>\n",
       "    </tr>\n",
       "    <tr>\n",
       "      <th>High School or Below</th>\n",
       "      <td>8675.220201</td>\n",
       "      <td>8149.687783</td>\n",
       "      <td>8415.293805</td>\n",
       "    </tr>\n",
       "    <tr>\n",
       "      <th>Master</th>\n",
       "      <td>8157.053154</td>\n",
       "      <td>8168.832659</td>\n",
       "      <td>8162.524581</td>\n",
       "    </tr>\n",
       "    <tr>\n",
       "      <th>Average</th>\n",
       "      <td>8071.105001</td>\n",
       "      <td>7963.039566</td>\n",
       "      <td>8018.241094</td>\n",
       "    </tr>\n",
       "  </tbody>\n",
       "</table>\n",
       "</div>"
      ],
      "text/plain": [
       "gender                          F            M      Average\n",
       "education                                                  \n",
       "Bachelor              7874.269478  7703.601675  7792.273822\n",
       "College               7748.823325  8052.459288  7900.072700\n",
       "Doctor                7328.508916  7415.333638  7372.029537\n",
       "High School or Below  8675.220201  8149.687783  8415.293805\n",
       "Master                8157.053154  8168.832659  8162.524581\n",
       "Average               8071.105001  7963.039566  8018.241094"
      ]
     },
     "execution_count": 50,
     "metadata": {},
     "output_type": "execute_result"
    }
   ],
   "source": [
    "revenue_stats = markinsur_df.pivot_table(index='education',columns='gender',values='customer_lifetime_value',\n",
    "                                       aggfunc='mean', margins=True, margins_name='Average')\n",
    "revenue_stats\n",
    "\n",
    "# in many cases, on average, more revenue coming from M\n",
    "# however, F educated high school or below provide more revenue than M"
   ]
  },
  {
   "cell_type": "markdown",
   "id": "32c7f2e5-3d90-43e5-be33-9781b6069198",
   "metadata": {
    "id": "32c7f2e5-3d90-43e5-be33-9781b6069198"
   },
   "source": [
    "## Bonus\n",
    "\n",
    "You work at the customer service department and you want to know which months had the highest number of complaints by policy type category. Create a summary table showing the number of complaints by policy type and month.\n",
    "Show it in a long format table."
   ]
  },
  {
   "cell_type": "markdown",
   "id": "e3d09a8f-953c-448a-a5f8-2e5a8cca7291",
   "metadata": {
    "id": "e3d09a8f-953c-448a-a5f8-2e5a8cca7291"
   },
   "source": [
    "*In data analysis, a long format table is a way of structuring data in which each observation or measurement is stored in a separate row of the table. The key characteristic of a long format table is that each column represents a single variable, and each row represents a single observation of that variable.*\n",
    "\n",
    "*More information about long and wide format tables here: https://www.statology.org/long-vs-wide-data/*"
   ]
  },
  {
   "cell_type": "code",
   "execution_count": null,
   "id": "3a069e0b-b400-470e-904d-d17582191be4",
   "metadata": {
    "id": "3a069e0b-b400-470e-904d-d17582191be4"
   },
   "outputs": [],
   "source": [
    "# Your code goes here"
   ]
  }
 ],
 "metadata": {
  "colab": {
   "provenance": []
  },
  "kernelspec": {
   "display_name": "Python 3 (ipykernel)",
   "language": "python",
   "name": "python3"
  },
  "language_info": {
   "codemirror_mode": {
    "name": "ipython",
    "version": 3
   },
   "file_extension": ".py",
   "mimetype": "text/x-python",
   "name": "python",
   "nbconvert_exporter": "python",
   "pygments_lexer": "ipython3",
   "version": "3.11.5"
  }
 },
 "nbformat": 4,
 "nbformat_minor": 5
}
